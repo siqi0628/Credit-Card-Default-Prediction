{
 "cells": [
  {
   "cell_type": "markdown",
   "id": "2cbab25b-145d-41f3-b4cf-0c4a64a0cbe6",
   "metadata": {},
   "source": [
    "# 2. Feature Engineering"
   ]
  },
  {
   "cell_type": "markdown",
   "id": "9eceb269-dd8f-44f0-b907-ecf71a42c48e",
   "metadata": {
    "tags": []
   },
   "source": [
    "## 2.1 Encoding Categorical Features"
   ]
  },
  {
   "cell_type": "code",
   "execution_count": 36,
   "id": "b7a4cea8-41fc-4a0b-996a-eeaa68a59f1a",
   "metadata": {
    "tags": []
   },
   "outputs": [],
   "source": [
    "import pandas as pd\n",
    "import numpy as np\n",
    "import seaborn as sns\n",
    "import matplotlib.pyplot as plt\n",
    "%matplotlib inline\n",
    "\n",
    "from sklearn.preprocessing import StandardScaler\n",
    "from sklearn.preprocessing import OneHotEncoder, LabelEncoder\n",
    "from sklearn.model_selection import train_test_split\n",
    "\n",
    "import warnings\n",
    "warnings.filterwarnings('ignore')\n",
    "\n",
    "# Boto3 is the Amazon Web Services (AWS) Software Development Kit (SDK) for Python\n",
    "# Boto3 allows Python developer to write software that makes use of services like Amazon S3 and Amazon EC2\n",
    "import sagemaker\n",
    "import boto3\n",
    "from sagemaker.amazon.amazon_estimator import get_image_uri\n",
    "\n",
    "# 500 rows and 200 columns will be presented\n",
    "pd.set_option('display.max_columns', 200)\n",
    "pd.set_option('display.max_rows', 500)"
   ]
  },
  {
   "cell_type": "code",
   "execution_count": 2,
   "id": "a65f7e19-4cd4-4a47-a589-dc55c6f35ea7",
   "metadata": {
    "tags": []
   },
   "outputs": [],
   "source": [
    "creditcard_df = pd.read_csv('UCI_Credit_Card.csv')\n",
    "creditcard_df.drop(['ID'], axis = 1, inplace = True)"
   ]
  },
  {
   "cell_type": "code",
   "execution_count": 3,
   "id": "3bbae2fa-3767-4f77-8ede-a89add015b5d",
   "metadata": {
    "tags": []
   },
   "outputs": [
    {
     "data": {
      "text/html": [
       "<div>\n",
       "<style scoped>\n",
       "    .dataframe tbody tr th:only-of-type {\n",
       "        vertical-align: middle;\n",
       "    }\n",
       "\n",
       "    .dataframe tbody tr th {\n",
       "        vertical-align: top;\n",
       "    }\n",
       "\n",
       "    .dataframe thead th {\n",
       "        text-align: right;\n",
       "    }\n",
       "</style>\n",
       "<table border=\"1\" class=\"dataframe\">\n",
       "  <thead>\n",
       "    <tr style=\"text-align: right;\">\n",
       "      <th></th>\n",
       "      <th>LIMIT_BAL</th>\n",
       "      <th>SEX</th>\n",
       "      <th>EDUCATION</th>\n",
       "      <th>MARRIAGE</th>\n",
       "      <th>AGE</th>\n",
       "      <th>PAY_0</th>\n",
       "      <th>PAY_2</th>\n",
       "      <th>PAY_3</th>\n",
       "      <th>PAY_4</th>\n",
       "      <th>PAY_5</th>\n",
       "      <th>PAY_6</th>\n",
       "      <th>BILL_AMT1</th>\n",
       "      <th>BILL_AMT2</th>\n",
       "      <th>BILL_AMT3</th>\n",
       "      <th>BILL_AMT4</th>\n",
       "      <th>BILL_AMT5</th>\n",
       "      <th>BILL_AMT6</th>\n",
       "      <th>PAY_AMT1</th>\n",
       "      <th>PAY_AMT2</th>\n",
       "      <th>PAY_AMT3</th>\n",
       "      <th>PAY_AMT4</th>\n",
       "      <th>PAY_AMT5</th>\n",
       "      <th>PAY_AMT6</th>\n",
       "      <th>default.payment.next.month</th>\n",
       "    </tr>\n",
       "  </thead>\n",
       "  <tbody>\n",
       "    <tr>\n",
       "      <th>0</th>\n",
       "      <td>20000.0</td>\n",
       "      <td>2</td>\n",
       "      <td>2</td>\n",
       "      <td>1</td>\n",
       "      <td>24</td>\n",
       "      <td>2</td>\n",
       "      <td>2</td>\n",
       "      <td>-1</td>\n",
       "      <td>-1</td>\n",
       "      <td>-2</td>\n",
       "      <td>-2</td>\n",
       "      <td>3913.0</td>\n",
       "      <td>3102.0</td>\n",
       "      <td>689.0</td>\n",
       "      <td>0.0</td>\n",
       "      <td>0.0</td>\n",
       "      <td>0.0</td>\n",
       "      <td>0.0</td>\n",
       "      <td>689.0</td>\n",
       "      <td>0.0</td>\n",
       "      <td>0.0</td>\n",
       "      <td>0.0</td>\n",
       "      <td>0.0</td>\n",
       "      <td>1</td>\n",
       "    </tr>\n",
       "    <tr>\n",
       "      <th>1</th>\n",
       "      <td>120000.0</td>\n",
       "      <td>2</td>\n",
       "      <td>2</td>\n",
       "      <td>2</td>\n",
       "      <td>26</td>\n",
       "      <td>-1</td>\n",
       "      <td>2</td>\n",
       "      <td>0</td>\n",
       "      <td>0</td>\n",
       "      <td>0</td>\n",
       "      <td>2</td>\n",
       "      <td>2682.0</td>\n",
       "      <td>1725.0</td>\n",
       "      <td>2682.0</td>\n",
       "      <td>3272.0</td>\n",
       "      <td>3455.0</td>\n",
       "      <td>3261.0</td>\n",
       "      <td>0.0</td>\n",
       "      <td>1000.0</td>\n",
       "      <td>1000.0</td>\n",
       "      <td>1000.0</td>\n",
       "      <td>0.0</td>\n",
       "      <td>2000.0</td>\n",
       "      <td>1</td>\n",
       "    </tr>\n",
       "    <tr>\n",
       "      <th>2</th>\n",
       "      <td>90000.0</td>\n",
       "      <td>2</td>\n",
       "      <td>2</td>\n",
       "      <td>2</td>\n",
       "      <td>34</td>\n",
       "      <td>0</td>\n",
       "      <td>0</td>\n",
       "      <td>0</td>\n",
       "      <td>0</td>\n",
       "      <td>0</td>\n",
       "      <td>0</td>\n",
       "      <td>29239.0</td>\n",
       "      <td>14027.0</td>\n",
       "      <td>13559.0</td>\n",
       "      <td>14331.0</td>\n",
       "      <td>14948.0</td>\n",
       "      <td>15549.0</td>\n",
       "      <td>1518.0</td>\n",
       "      <td>1500.0</td>\n",
       "      <td>1000.0</td>\n",
       "      <td>1000.0</td>\n",
       "      <td>1000.0</td>\n",
       "      <td>5000.0</td>\n",
       "      <td>0</td>\n",
       "    </tr>\n",
       "    <tr>\n",
       "      <th>3</th>\n",
       "      <td>50000.0</td>\n",
       "      <td>2</td>\n",
       "      <td>2</td>\n",
       "      <td>1</td>\n",
       "      <td>37</td>\n",
       "      <td>0</td>\n",
       "      <td>0</td>\n",
       "      <td>0</td>\n",
       "      <td>0</td>\n",
       "      <td>0</td>\n",
       "      <td>0</td>\n",
       "      <td>46990.0</td>\n",
       "      <td>48233.0</td>\n",
       "      <td>49291.0</td>\n",
       "      <td>28314.0</td>\n",
       "      <td>28959.0</td>\n",
       "      <td>29547.0</td>\n",
       "      <td>2000.0</td>\n",
       "      <td>2019.0</td>\n",
       "      <td>1200.0</td>\n",
       "      <td>1100.0</td>\n",
       "      <td>1069.0</td>\n",
       "      <td>1000.0</td>\n",
       "      <td>0</td>\n",
       "    </tr>\n",
       "    <tr>\n",
       "      <th>4</th>\n",
       "      <td>50000.0</td>\n",
       "      <td>1</td>\n",
       "      <td>2</td>\n",
       "      <td>1</td>\n",
       "      <td>57</td>\n",
       "      <td>-1</td>\n",
       "      <td>0</td>\n",
       "      <td>-1</td>\n",
       "      <td>0</td>\n",
       "      <td>0</td>\n",
       "      <td>0</td>\n",
       "      <td>8617.0</td>\n",
       "      <td>5670.0</td>\n",
       "      <td>35835.0</td>\n",
       "      <td>20940.0</td>\n",
       "      <td>19146.0</td>\n",
       "      <td>19131.0</td>\n",
       "      <td>2000.0</td>\n",
       "      <td>36681.0</td>\n",
       "      <td>10000.0</td>\n",
       "      <td>9000.0</td>\n",
       "      <td>689.0</td>\n",
       "      <td>679.0</td>\n",
       "      <td>0</td>\n",
       "    </tr>\n",
       "  </tbody>\n",
       "</table>\n",
       "</div>"
      ],
      "text/plain": [
       "   LIMIT_BAL  SEX  EDUCATION  MARRIAGE  AGE  PAY_0  PAY_2  PAY_3  PAY_4  \\\n",
       "0    20000.0    2          2         1   24      2      2     -1     -1   \n",
       "1   120000.0    2          2         2   26     -1      2      0      0   \n",
       "2    90000.0    2          2         2   34      0      0      0      0   \n",
       "3    50000.0    2          2         1   37      0      0      0      0   \n",
       "4    50000.0    1          2         1   57     -1      0     -1      0   \n",
       "\n",
       "   PAY_5  PAY_6  BILL_AMT1  BILL_AMT2  BILL_AMT3  BILL_AMT4  BILL_AMT5  \\\n",
       "0     -2     -2     3913.0     3102.0      689.0        0.0        0.0   \n",
       "1      0      2     2682.0     1725.0     2682.0     3272.0     3455.0   \n",
       "2      0      0    29239.0    14027.0    13559.0    14331.0    14948.0   \n",
       "3      0      0    46990.0    48233.0    49291.0    28314.0    28959.0   \n",
       "4      0      0     8617.0     5670.0    35835.0    20940.0    19146.0   \n",
       "\n",
       "   BILL_AMT6  PAY_AMT1  PAY_AMT2  PAY_AMT3  PAY_AMT4  PAY_AMT5  PAY_AMT6  \\\n",
       "0        0.0       0.0     689.0       0.0       0.0       0.0       0.0   \n",
       "1     3261.0       0.0    1000.0    1000.0    1000.0       0.0    2000.0   \n",
       "2    15549.0    1518.0    1500.0    1000.0    1000.0    1000.0    5000.0   \n",
       "3    29547.0    2000.0    2019.0    1200.0    1100.0    1069.0    1000.0   \n",
       "4    19131.0    2000.0   36681.0   10000.0    9000.0     689.0     679.0   \n",
       "\n",
       "   default.payment.next.month  \n",
       "0                           1  \n",
       "1                           1  \n",
       "2                           0  \n",
       "3                           0  \n",
       "4                           0  "
      ]
     },
     "execution_count": 3,
     "metadata": {},
     "output_type": "execute_result"
    }
   ],
   "source": [
    "creditcard_df.head()"
   ]
  },
  {
   "cell_type": "code",
   "execution_count": 4,
   "id": "99a8f09f-f2b5-4bcb-bf55-e533d6f65e96",
   "metadata": {
    "tags": []
   },
   "outputs": [],
   "source": [
    "X_cat = creditcard_df[['SEX', 'EDUCATION', 'MARRIAGE']]"
   ]
  },
  {
   "cell_type": "code",
   "execution_count": 5,
   "id": "c3f6ed71-a8b2-44ca-9781-be353572ea14",
   "metadata": {
    "tags": []
   },
   "outputs": [],
   "source": [
    "onehotencoder = OneHotEncoder()\n",
    "X_cat = onehotencoder.fit_transform(X_cat).toarray()"
   ]
  },
  {
   "cell_type": "code",
   "execution_count": 6,
   "id": "f39dad03-cf53-4cd0-879f-2c5f83a4ae94",
   "metadata": {
    "tags": []
   },
   "outputs": [
    {
     "data": {
      "text/plain": [
       "(30000, 13)"
      ]
     },
     "execution_count": 6,
     "metadata": {},
     "output_type": "execute_result"
    }
   ],
   "source": [
    "X_cat.shape"
   ]
  },
  {
   "cell_type": "code",
   "execution_count": 7,
   "id": "6567f6ed-0cbf-499b-90f2-b1e58bd9f458",
   "metadata": {
    "tags": []
   },
   "outputs": [],
   "source": [
    "X_cat = pd.DataFrame(X_cat)"
   ]
  },
  {
   "cell_type": "code",
   "execution_count": 8,
   "id": "c142021c-3009-4049-aa5d-d786ca6cf395",
   "metadata": {
    "tags": []
   },
   "outputs": [],
   "source": [
    "X_numerical = creditcard_df[['LIMIT_BAL', 'AGE', 'PAY_0', 'PAY_2', 'PAY_3', 'PAY_4', 'PAY_5', 'PAY_6', \n",
    "                'BILL_AMT1','BILL_AMT2', 'BILL_AMT3', 'BILL_AMT4', 'BILL_AMT5', 'BILL_AMT6',\n",
    "                'PAY_AMT1', 'PAY_AMT2', 'PAY_AMT3', 'PAY_AMT4', 'PAY_AMT5', 'PAY_AMT6']]"
   ]
  },
  {
   "cell_type": "code",
   "execution_count": 9,
   "id": "8e869a3d-aea8-4173-8533-a06db39cac31",
   "metadata": {
    "tags": []
   },
   "outputs": [],
   "source": [
    "X = pd.concat([X_cat, X_numerical], axis = 1)"
   ]
  },
  {
   "cell_type": "markdown",
   "id": "e38e865c-686f-46df-96f6-f2f634bc071e",
   "metadata": {},
   "source": [
    "## 2.2 Feature Scaling"
   ]
  },
  {
   "cell_type": "code",
   "execution_count": 10,
   "id": "fdd9b3c9-30c7-4017-b2e4-fd0fa61e3e93",
   "metadata": {
    "tags": []
   },
   "outputs": [],
   "source": [
    "numerical_columns = ['LIMIT_BAL', 'AGE', 'PAY_0', 'PAY_2', 'PAY_3', 'PAY_4', 'PAY_5', 'PAY_6', \n",
    "                'BILL_AMT1','BILL_AMT2', 'BILL_AMT3', 'BILL_AMT4', 'BILL_AMT5', 'BILL_AMT6',\n",
    "                'PAY_AMT1', 'PAY_AMT2', 'PAY_AMT3', 'PAY_AMT4', 'PAY_AMT5', 'PAY_AMT6']"
   ]
  },
  {
   "cell_type": "code",
   "execution_count": 12,
   "id": "567bd149-d652-4032-a8fb-aa499c785ac4",
   "metadata": {
    "tags": []
   },
   "outputs": [],
   "source": [
    "# Step 1: Apply Log Transformation (Add 1 to avoid log(0) issue)\n",
    "X_log = X[numerical_columns].apply(lambda x: np.log(x + 1)) \n",
    "X_log.replace([np.inf, -np.inf], np.nan, inplace=True)\n",
    "\n",
    "# Step 2: Apply Standardization\n",
    "scaler = StandardScaler()\n",
    "X_standardized = pd.DataFrame(scaler.fit_transform(X_log), columns=numerical_columns)\n",
    "\n",
    "X[numerical_columns] = X_standardized"
   ]
  },
  {
   "cell_type": "code",
   "execution_count": 13,
   "id": "8ffb6658-0f74-4f17-9247-83e912172554",
   "metadata": {
    "tags": []
   },
   "outputs": [
    {
     "data": {
      "text/html": [
       "<div>\n",
       "<style scoped>\n",
       "    .dataframe tbody tr th:only-of-type {\n",
       "        vertical-align: middle;\n",
       "    }\n",
       "\n",
       "    .dataframe tbody tr th {\n",
       "        vertical-align: top;\n",
       "    }\n",
       "\n",
       "    .dataframe thead th {\n",
       "        text-align: right;\n",
       "    }\n",
       "</style>\n",
       "<table border=\"1\" class=\"dataframe\">\n",
       "  <thead>\n",
       "    <tr style=\"text-align: right;\">\n",
       "      <th></th>\n",
       "      <th>0</th>\n",
       "      <th>1</th>\n",
       "      <th>2</th>\n",
       "      <th>3</th>\n",
       "      <th>4</th>\n",
       "      <th>5</th>\n",
       "      <th>6</th>\n",
       "      <th>7</th>\n",
       "      <th>8</th>\n",
       "      <th>9</th>\n",
       "      <th>10</th>\n",
       "      <th>11</th>\n",
       "      <th>12</th>\n",
       "      <th>LIMIT_BAL</th>\n",
       "      <th>AGE</th>\n",
       "      <th>PAY_0</th>\n",
       "      <th>PAY_2</th>\n",
       "      <th>PAY_3</th>\n",
       "      <th>PAY_4</th>\n",
       "      <th>PAY_5</th>\n",
       "      <th>PAY_6</th>\n",
       "      <th>BILL_AMT1</th>\n",
       "      <th>BILL_AMT2</th>\n",
       "      <th>BILL_AMT3</th>\n",
       "      <th>BILL_AMT4</th>\n",
       "      <th>BILL_AMT5</th>\n",
       "      <th>BILL_AMT6</th>\n",
       "      <th>PAY_AMT1</th>\n",
       "      <th>PAY_AMT2</th>\n",
       "      <th>PAY_AMT3</th>\n",
       "      <th>PAY_AMT4</th>\n",
       "      <th>PAY_AMT5</th>\n",
       "      <th>PAY_AMT6</th>\n",
       "    </tr>\n",
       "  </thead>\n",
       "  <tbody>\n",
       "    <tr>\n",
       "      <th>0</th>\n",
       "      <td>0.0</td>\n",
       "      <td>1.0</td>\n",
       "      <td>0.0</td>\n",
       "      <td>0.0</td>\n",
       "      <td>1.0</td>\n",
       "      <td>0.0</td>\n",
       "      <td>0.0</td>\n",
       "      <td>0.0</td>\n",
       "      <td>0.0</td>\n",
       "      <td>0.0</td>\n",
       "      <td>1.0</td>\n",
       "      <td>0.0</td>\n",
       "      <td>0.0</td>\n",
       "      <td>-1.869589</td>\n",
       "      <td>-1.421936</td>\n",
       "      <td>1.819879</td>\n",
       "      <td>1.778224</td>\n",
       "      <td>NaN</td>\n",
       "      <td>NaN</td>\n",
       "      <td>NaN</td>\n",
       "      <td>NaN</td>\n",
       "      <td>-0.311671</td>\n",
       "      <td>-0.309853</td>\n",
       "      <td>-0.703149</td>\n",
       "      <td>-2.527426</td>\n",
       "      <td>-2.412934</td>\n",
       "      <td>-2.254681</td>\n",
       "      <td>-2.039844</td>\n",
       "      <td>-0.007918</td>\n",
       "      <td>-1.875766</td>\n",
       "      <td>-1.789384</td>\n",
       "      <td>-1.751539</td>\n",
       "      <td>-1.681626</td>\n",
       "    </tr>\n",
       "    <tr>\n",
       "      <th>1</th>\n",
       "      <td>0.0</td>\n",
       "      <td>1.0</td>\n",
       "      <td>0.0</td>\n",
       "      <td>0.0</td>\n",
       "      <td>1.0</td>\n",
       "      <td>0.0</td>\n",
       "      <td>0.0</td>\n",
       "      <td>0.0</td>\n",
       "      <td>0.0</td>\n",
       "      <td>0.0</td>\n",
       "      <td>0.0</td>\n",
       "      <td>1.0</td>\n",
       "      <td>0.0</td>\n",
       "      <td>0.034257</td>\n",
       "      <td>-1.107148</td>\n",
       "      <td>NaN</td>\n",
       "      <td>1.778224</td>\n",
       "      <td>-0.511674</td>\n",
       "      <td>-0.455726</td>\n",
       "      <td>-0.412696</td>\n",
       "      <td>2.156054</td>\n",
       "      <td>-0.436338</td>\n",
       "      <td>-0.490670</td>\n",
       "      <td>-0.300667</td>\n",
       "      <td>-0.191475</td>\n",
       "      <td>-0.122894</td>\n",
       "      <td>-0.080164</td>\n",
       "      <td>-2.039844</td>\n",
       "      <td>0.105561</td>\n",
       "      <td>0.186755</td>\n",
       "      <td>0.244672</td>\n",
       "      <td>-1.751539</td>\n",
       "      <td>0.472947</td>\n",
       "    </tr>\n",
       "    <tr>\n",
       "      <th>2</th>\n",
       "      <td>0.0</td>\n",
       "      <td>1.0</td>\n",
       "      <td>0.0</td>\n",
       "      <td>0.0</td>\n",
       "      <td>1.0</td>\n",
       "      <td>0.0</td>\n",
       "      <td>0.0</td>\n",
       "      <td>0.0</td>\n",
       "      <td>0.0</td>\n",
       "      <td>0.0</td>\n",
       "      <td>0.0</td>\n",
       "      <td>1.0</td>\n",
       "      <td>0.0</td>\n",
       "      <td>-0.271426</td>\n",
       "      <td>-0.045689</td>\n",
       "      <td>-0.643146</td>\n",
       "      <td>-0.525862</td>\n",
       "      <td>-0.511674</td>\n",
       "      <td>-0.455726</td>\n",
       "      <td>-0.412696</td>\n",
       "      <td>-0.429351</td>\n",
       "      <td>0.352221</td>\n",
       "      <td>0.155222</td>\n",
       "      <td>0.179521</td>\n",
       "      <td>0.234759</td>\n",
       "      <td>0.288728</td>\n",
       "      <td>0.339607</td>\n",
       "      <td>0.214077</td>\n",
       "      <td>0.229126</td>\n",
       "      <td>0.186755</td>\n",
       "      <td>0.244672</td>\n",
       "      <td>0.254523</td>\n",
       "      <td>0.732579</td>\n",
       "    </tr>\n",
       "    <tr>\n",
       "      <th>3</th>\n",
       "      <td>0.0</td>\n",
       "      <td>1.0</td>\n",
       "      <td>0.0</td>\n",
       "      <td>0.0</td>\n",
       "      <td>1.0</td>\n",
       "      <td>0.0</td>\n",
       "      <td>0.0</td>\n",
       "      <td>0.0</td>\n",
       "      <td>0.0</td>\n",
       "      <td>0.0</td>\n",
       "      <td>1.0</td>\n",
       "      <td>0.0</td>\n",
       "      <td>0.0</td>\n",
       "      <td>-0.895987</td>\n",
       "      <td>0.290684</td>\n",
       "      <td>-0.643146</td>\n",
       "      <td>-0.525862</td>\n",
       "      <td>-0.511674</td>\n",
       "      <td>-0.455726</td>\n",
       "      <td>-0.412696</td>\n",
       "      <td>-0.429351</td>\n",
       "      <td>0.508843</td>\n",
       "      <td>0.535933</td>\n",
       "      <td>0.562038</td>\n",
       "      <td>0.431280</td>\n",
       "      <td>0.474585</td>\n",
       "      <td>0.512157</td>\n",
       "      <td>0.298869</td>\n",
       "      <td>0.319700</td>\n",
       "      <td>0.241135</td>\n",
       "      <td>0.272706</td>\n",
       "      <td>0.273879</td>\n",
       "      <td>0.276620</td>\n",
       "    </tr>\n",
       "    <tr>\n",
       "      <th>4</th>\n",
       "      <td>1.0</td>\n",
       "      <td>0.0</td>\n",
       "      <td>0.0</td>\n",
       "      <td>0.0</td>\n",
       "      <td>1.0</td>\n",
       "      <td>0.0</td>\n",
       "      <td>0.0</td>\n",
       "      <td>0.0</td>\n",
       "      <td>0.0</td>\n",
       "      <td>0.0</td>\n",
       "      <td>1.0</td>\n",
       "      <td>0.0</td>\n",
       "      <td>0.0</td>\n",
       "      <td>-0.895987</td>\n",
       "      <td>2.020263</td>\n",
       "      <td>NaN</td>\n",
       "      <td>-0.525862</td>\n",
       "      <td>NaN</td>\n",
       "      <td>-0.455726</td>\n",
       "      <td>-0.412696</td>\n",
       "      <td>-0.429351</td>\n",
       "      <td>-0.051099</td>\n",
       "      <td>-0.123970</td>\n",
       "      <td>0.467550</td>\n",
       "      <td>0.344208</td>\n",
       "      <td>0.358291</td>\n",
       "      <td>0.395327</td>\n",
       "      <td>0.298869</td>\n",
       "      <td>1.203950</td>\n",
       "      <td>0.873894</td>\n",
       "      <td>0.891311</td>\n",
       "      <td>0.146489</td>\n",
       "      <td>0.167023</td>\n",
       "    </tr>\n",
       "  </tbody>\n",
       "</table>\n",
       "</div>"
      ],
      "text/plain": [
       "     0    1    2    3    4    5    6    7    8    9   10   11   12  LIMIT_BAL  \\\n",
       "0  0.0  1.0  0.0  0.0  1.0  0.0  0.0  0.0  0.0  0.0  1.0  0.0  0.0  -1.869589   \n",
       "1  0.0  1.0  0.0  0.0  1.0  0.0  0.0  0.0  0.0  0.0  0.0  1.0  0.0   0.034257   \n",
       "2  0.0  1.0  0.0  0.0  1.0  0.0  0.0  0.0  0.0  0.0  0.0  1.0  0.0  -0.271426   \n",
       "3  0.0  1.0  0.0  0.0  1.0  0.0  0.0  0.0  0.0  0.0  1.0  0.0  0.0  -0.895987   \n",
       "4  1.0  0.0  0.0  0.0  1.0  0.0  0.0  0.0  0.0  0.0  1.0  0.0  0.0  -0.895987   \n",
       "\n",
       "        AGE     PAY_0     PAY_2     PAY_3     PAY_4     PAY_5     PAY_6  \\\n",
       "0 -1.421936  1.819879  1.778224       NaN       NaN       NaN       NaN   \n",
       "1 -1.107148       NaN  1.778224 -0.511674 -0.455726 -0.412696  2.156054   \n",
       "2 -0.045689 -0.643146 -0.525862 -0.511674 -0.455726 -0.412696 -0.429351   \n",
       "3  0.290684 -0.643146 -0.525862 -0.511674 -0.455726 -0.412696 -0.429351   \n",
       "4  2.020263       NaN -0.525862       NaN -0.455726 -0.412696 -0.429351   \n",
       "\n",
       "   BILL_AMT1  BILL_AMT2  BILL_AMT3  BILL_AMT4  BILL_AMT5  BILL_AMT6  PAY_AMT1  \\\n",
       "0  -0.311671  -0.309853  -0.703149  -2.527426  -2.412934  -2.254681 -2.039844   \n",
       "1  -0.436338  -0.490670  -0.300667  -0.191475  -0.122894  -0.080164 -2.039844   \n",
       "2   0.352221   0.155222   0.179521   0.234759   0.288728   0.339607  0.214077   \n",
       "3   0.508843   0.535933   0.562038   0.431280   0.474585   0.512157  0.298869   \n",
       "4  -0.051099  -0.123970   0.467550   0.344208   0.358291   0.395327  0.298869   \n",
       "\n",
       "   PAY_AMT2  PAY_AMT3  PAY_AMT4  PAY_AMT5  PAY_AMT6  \n",
       "0 -0.007918 -1.875766 -1.789384 -1.751539 -1.681626  \n",
       "1  0.105561  0.186755  0.244672 -1.751539  0.472947  \n",
       "2  0.229126  0.186755  0.244672  0.254523  0.732579  \n",
       "3  0.319700  0.241135  0.272706  0.273879  0.276620  \n",
       "4  1.203950  0.873894  0.891311  0.146489  0.167023  "
      ]
     },
     "execution_count": 13,
     "metadata": {},
     "output_type": "execute_result"
    }
   ],
   "source": [
    "X.head()"
   ]
  },
  {
   "cell_type": "code",
   "execution_count": 14,
   "id": "2117638e-324a-4137-b2ef-23fa56f60cca",
   "metadata": {
    "tags": []
   },
   "outputs": [],
   "source": [
    "y = creditcard_df['default.payment.next.month']"
   ]
  },
  {
   "cell_type": "markdown",
   "id": "09318165-b227-42fe-9991-c7172088da17",
   "metadata": {},
   "source": [
    "# 3. Modeling & Evaluation"
   ]
  },
  {
   "cell_type": "code",
   "execution_count": 22,
   "id": "83246c58-51b2-4afd-a120-e0f614203f4e",
   "metadata": {
    "tags": []
   },
   "outputs": [],
   "source": [
    "X = np.array(X)\n",
    "y = np.array(y)"
   ]
  },
  {
   "cell_type": "code",
   "execution_count": 23,
   "id": "7e8e96d7-a129-4980-9f5c-0ae34e75afe5",
   "metadata": {
    "tags": []
   },
   "outputs": [
    {
     "data": {
      "text/plain": [
       "(30000, 1)"
      ]
     },
     "execution_count": 23,
     "metadata": {},
     "output_type": "execute_result"
    }
   ],
   "source": [
    "# reshaping the array from (30000,) to (30000, 1)\n",
    "y = np.array(y)\n",
    "y = y.reshape(-1,1)\n",
    "y.shape"
   ]
  },
  {
   "cell_type": "code",
   "execution_count": 24,
   "id": "e4ad58f4-ab60-44cb-902e-1bdc0df0bc70",
   "metadata": {
    "tags": []
   },
   "outputs": [],
   "source": [
    "# spliting the data into training, testing and validation sets\n",
    "X_train, X_test, y_train, y_test = train_test_split(X, y, test_size = 0.2)\n",
    "X_test, X_val, y_test, y_val = train_test_split(X_test, y_test, test_size = 0.5)"
   ]
  },
  {
   "cell_type": "code",
   "execution_count": 25,
   "id": "e2b3a9ac-14a0-433a-bbcd-94ac0f427ab5",
   "metadata": {
    "tags": []
   },
   "outputs": [],
   "source": [
    "# Convert the array into dataframe in a way that target variable is set as the first column and followed by feature columns\n",
    "# This is because sagemaker built-in algorithm expects the data in this format.\n",
    "\n",
    "train_data = pd.DataFrame({'Target': y_train[:,0]})\n",
    "for i in range(X_train.shape[1]):\n",
    "    train_data[i] = X_train[:,i]"
   ]
  },
  {
   "cell_type": "code",
   "execution_count": 27,
   "id": "3d0b8275-3ae8-4254-a267-ab9f8051a1e7",
   "metadata": {
    "tags": []
   },
   "outputs": [],
   "source": [
    "val_data = pd.DataFrame({'Target':y_test[:,0]})\n",
    "for i in range(X_test.shape[1]):\n",
    "    val_data[i] = X_test[:,i]"
   ]
  },
  {
   "cell_type": "code",
   "execution_count": 29,
   "id": "a9b25e90-6e6c-4afc-b351-edca2bbfdce5",
   "metadata": {
    "tags": []
   },
   "outputs": [],
   "source": [
    "# save train_data and validation_data as csv files.\n",
    "\n",
    "train_data.to_csv('train.csv', header = False, index = False)\n",
    "val_data.to_csv('validation.csv', header = False, index = False)"
   ]
  },
  {
   "cell_type": "code",
   "execution_count": 31,
   "id": "cae33cf0-bb3d-47e9-abfd-4cc97a34c79b",
   "metadata": {
    "tags": []
   },
   "outputs": [],
   "source": [
    "# Create a sagemaker session\n",
    "sagemaker_session = sagemaker.Session()\n",
    "\n",
    "# S3 bucket and prefix that we want to use\n",
    "# default_bucket - creates a Amazon S3 bucket to be used in this session\n",
    "bucket = sagemaker_session.default_bucket()                    # Set a default S3 bucket\n",
    "prefix = 'XGBoost-classifier'\n",
    "key = 'XGBoost-classifier'\n",
    "#Roles give learning and hosting access to the data\n",
    "#This is specified while opening the sagemakers instance in \"Create an IAM role\"\n",
    "role = sagemaker.get_execution_role()"
   ]
  },
  {
   "cell_type": "code",
   "execution_count": 32,
   "id": "7c0925d2-7415-4563-8df0-6a7fdead5914",
   "metadata": {
    "tags": []
   },
   "outputs": [
    {
     "name": "stdout",
     "output_type": "stream",
     "text": [
      "arn:aws:iam::339712697475:role/SageMakerExecutionRole\n"
     ]
    }
   ],
   "source": [
    "print(role)"
   ]
  },
  {
   "cell_type": "code",
   "execution_count": 33,
   "id": "b2db3ffa-60b6-450c-89e5-cc6b58619e26",
   "metadata": {
    "tags": []
   },
   "outputs": [
    {
     "name": "stdout",
     "output_type": "stream",
     "text": [
      "uploaded training data location: s3://sagemaker-us-east-1-339712697475/XGBoost-classifier/train/XGBoost-classifier\n"
     ]
    }
   ],
   "source": [
    "# read the data from csv file and then upload the data to s3 bucket\n",
    "import os\n",
    "with open('train.csv','rb') as f:\n",
    "    # The following code uploads the data into S3 bucket to be accessed later for training\n",
    "    boto3.Session().resource('s3').Bucket(bucket).Object(os.path.join(prefix, 'train', key)).upload_fileobj(f)\n",
    "\n",
    "# Let's print out the training data location in s3\n",
    "s3_train_data = 's3://{}/{}/train/{}'.format(bucket, prefix, key)\n",
    "print('uploaded training data location: {}'.format(s3_train_data))"
   ]
  },
  {
   "cell_type": "code",
   "execution_count": 34,
   "id": "485fa54a-d7ca-4f32-8bb2-a8a2faeda03c",
   "metadata": {
    "tags": []
   },
   "outputs": [
    {
     "name": "stdout",
     "output_type": "stream",
     "text": [
      "uploaded validation data location: s3://sagemaker-us-east-1-339712697475/XGBoost-classifier/validation/XGBoost-classifier\n"
     ]
    }
   ],
   "source": [
    "# read the data from csv file and then upload the data to s3 bucket\n",
    "\n",
    "with open('validation.csv','rb') as f:\n",
    "    # The following code uploads the data into S3 bucket to be accessed later for training\n",
    "    boto3.Session().resource('s3').Bucket(bucket).Object(os.path.join(prefix, 'validation', key)).upload_fileobj(f)\n",
    "    \n",
    "# Let's print out the validation data location in s3\n",
    "s3_validation_data = 's3://{}/{}/validation/{}'.format(bucket, prefix, key)\n",
    "print('uploaded validation data location: {}'.format(s3_validation_data))"
   ]
  },
  {
   "cell_type": "code",
   "execution_count": 35,
   "id": "0ece51dd-208d-4507-a7b7-f1568622a8cd",
   "metadata": {
    "tags": []
   },
   "outputs": [
    {
     "name": "stdout",
     "output_type": "stream",
     "text": [
      "training artifacts will be uploaded to: s3://sagemaker-us-east-1-339712697475/XGBoost-classifier/output\n"
     ]
    }
   ],
   "source": [
    "# create output placeholder in S3 bucket to store the output\n",
    "output_location = 's3://{}/{}/output'.format(bucket, prefix)\n",
    "print('training artifacts will be uploaded to: {}'.format(output_location))"
   ]
  },
  {
   "cell_type": "code",
   "execution_count": 37,
   "id": "4cd5b3c0-7d62-4438-90d0-17f27e2988de",
   "metadata": {
    "tags": []
   },
   "outputs": [],
   "source": [
    "# This code is used to get the training container of sagemaker built-in algorithms\n",
    "# all we have to do is to specify the name of the algorithm, that we want to use\n",
    "\n",
    "# Let's obtain a reference to the XGBoost container image\n",
    "# Note that all regression models are named estimators\n",
    "# You don't have to specify (hardcode) the region, get_image_uri will get the current region name using boto3.Session\n",
    "\n",
    "container = sagemaker.image_uris.retrieve(\"xgboost\", boto3.Session().region_name, version='1.0-1')"
   ]
  },
  {
   "cell_type": "code",
   "execution_count": 38,
   "id": "f4714115-52b2-4846-b2ec-3615b8c8e70b",
   "metadata": {
    "tags": []
   },
   "outputs": [],
   "source": [
    "# Specify the type of instance that we would like to use for training \n",
    "# output path and sagemaker session into the Estimator. \n",
    "# We can also specify how many instances we would like to use for training\n",
    "\n",
    "# Recall that XGBoost works by combining an ensemble of weak models to generate accurate/robust results. \n",
    "# The weak models are randomized to avoid overfitting\n",
    "\n",
    "# num_round: The number of rounds to run the training.\n",
    "# Alpha: L1 regularization term on weights. Increasing this value makes models more conservative.\n",
    "# eta: Step size shrinkage used in updates to prevent overfitting. \n",
    "\n",
    "Xgboost_classifier = sagemaker.estimator.Estimator(container,\n",
    "                                                   role, \n",
    "                                                   instance_count = 1, \n",
    "                                                   instance_type = 'ml.m4.xlarge',\n",
    "                                                   output_path = output_location,\n",
    "                                                   sagemaker_session = sagemaker_session)\n",
    "\n",
    "# To improve the performance of the model, a hyperparameters tuning job need to be run \n",
    "\n",
    "Xgboost_classifier.set_hyperparameters(max_depth = 20,\n",
    "                                       objective = 'multi:softmax',\n",
    "                                       num_class = 2,\n",
    "                                       eta = 0.1,\n",
    "                                       num_round = 150)"
   ]
  },
  {
   "cell_type": "code",
   "execution_count": 39,
   "id": "3babcdae-4449-4326-ab3f-e35374bbb3f8",
   "metadata": {
    "tags": []
   },
   "outputs": [
    {
     "name": "stderr",
     "output_type": "stream",
     "text": [
      "INFO:sagemaker:Creating training-job with name: sagemaker-xgboost-2024-09-03-22-35-51-132\n"
     ]
    },
    {
     "name": "stdout",
     "output_type": "stream",
     "text": [
      "2024-09-03 22:35:56 Starting - Starting the training job...\n",
      "2024-09-03 22:36:11 Starting - Preparing the instances for training...\n",
      "2024-09-03 22:36:42 Downloading - Downloading input data...\n",
      "2024-09-03 22:37:17 Downloading - Downloading the training image......\n",
      "2024-09-03 22:37:58 Training - Training image download completed. Training in progress...\u001b[34m[2024-09-03 22:38:11.930 ip-10-0-102-16.ec2.internal:8 INFO utils.py:27] RULE_JOB_STOP_SIGNAL_FILENAME: None\u001b[0m\n",
      "\u001b[34mINFO:sagemaker-containers:Imported framework sagemaker_xgboost_container.training\u001b[0m\n",
      "\u001b[34mINFO:sagemaker-containers:Failed to parse hyperparameter objective value multi:softmax to Json.\u001b[0m\n",
      "\u001b[34mReturning the value itself\u001b[0m\n",
      "\u001b[34mINFO:sagemaker-containers:No GPUs detected (normal if no gpus installed)\u001b[0m\n",
      "\u001b[34mINFO:sagemaker_xgboost_container.training:Running XGBoost Sagemaker in algorithm mode\u001b[0m\n",
      "\u001b[34mINFO:root:Determined delimiter of CSV input is ','\u001b[0m\n",
      "\u001b[34mINFO:root:Determined delimiter of CSV input is ','\u001b[0m\n",
      "\u001b[34mINFO:root:Determined delimiter of CSV input is ','\u001b[0m\n",
      "\u001b[34mINFO:root:Determined delimiter of CSV input is ','\u001b[0m\n",
      "\u001b[34mINFO:root:Single node training.\u001b[0m\n",
      "\u001b[34m[22:38:12] 24000x33 matrix with 792000 entries loaded from /opt/ml/input/data/train?format=csv&label_column=0&delimiter=,\u001b[0m\n",
      "\u001b[34m[22:38:12] 3000x33 matrix with 99000 entries loaded from /opt/ml/input/data/validation?format=csv&label_column=0&delimiter=,\u001b[0m\n",
      "\u001b[34m[2024-09-03 22:38:12.079 ip-10-0-102-16.ec2.internal:8 INFO json_config.py:91] Creating hook from json_config at /opt/ml/input/config/debughookconfig.json.\u001b[0m\n",
      "\u001b[34m[2024-09-03 22:38:12.080 ip-10-0-102-16.ec2.internal:8 INFO hook.py:201] tensorboard_dir has not been set for the hook. SMDebug will not be exporting tensorboard summaries.\u001b[0m\n",
      "\u001b[34m[2024-09-03 22:38:12.080 ip-10-0-102-16.ec2.internal:8 INFO profiler_config_parser.py:102] User has disabled profiler.\u001b[0m\n",
      "\u001b[34m[2024-09-03 22:38:12.081 ip-10-0-102-16.ec2.internal:8 INFO hook.py:255] Saving to /opt/ml/output/tensors\u001b[0m\n",
      "\u001b[34m[2024-09-03 22:38:12.081 ip-10-0-102-16.ec2.internal:8 INFO state_store.py:77] The checkpoint config file /opt/ml/input/config/checkpointconfig.json does not exist.\u001b[0m\n",
      "\u001b[34mINFO:root:Debug hook created from config\u001b[0m\n",
      "\u001b[34mINFO:root:Train matrix has 24000 rows\u001b[0m\n",
      "\u001b[34mINFO:root:Validation matrix has 3000 rows\u001b[0m\n",
      "\u001b[34m[22:38:12] WARNING: /workspace/src/learner.cc:328: \u001b[0m\n",
      "\u001b[34mParameters: { num_round } might not be used.\n",
      "  This may not be accurate due to some parameters are only used in language bindings but\n",
      "  passed down to XGBoost core.  Or some parameters are not used but slip through this\n",
      "  verification. Please open an issue if you find above cases.\u001b[0m\n",
      "\u001b[34m[0]#011train-merror:0.07642#011validation-merror:0.22333\u001b[0m\n",
      "\u001b[34m[2024-09-03 22:38:12.378 ip-10-0-102-16.ec2.internal:8 INFO hook.py:423] Monitoring the collections: metrics\u001b[0m\n",
      "\u001b[34m[2024-09-03 22:38:12.382 ip-10-0-102-16.ec2.internal:8 INFO hook.py:486] Hook is writing from the hook with pid: 8\u001b[0m\n",
      "\u001b[34m[1]#011train-merror:0.06542#011validation-merror:0.21500\u001b[0m\n",
      "\u001b[34m[2]#011train-merror:0.05704#011validation-merror:0.21833\u001b[0m\n",
      "\u001b[34m[3]#011train-merror:0.05342#011validation-merror:0.21133\u001b[0m\n",
      "\u001b[34m[4]#011train-merror:0.05054#011validation-merror:0.20700\u001b[0m\n",
      "\u001b[34m[5]#011train-merror:0.04817#011validation-merror:0.20333\u001b[0m\n",
      "\u001b[34m[6]#011train-merror:0.04629#011validation-merror:0.20267\u001b[0m\n",
      "\u001b[34m[7]#011train-merror:0.04308#011validation-merror:0.20233\u001b[0m\n",
      "\u001b[34m[8]#011train-merror:0.04017#011validation-merror:0.20133\u001b[0m\n",
      "\u001b[34m[9]#011train-merror:0.03796#011validation-merror:0.20167\u001b[0m\n",
      "\u001b[34m[10]#011train-merror:0.03571#011validation-merror:0.20100\u001b[0m\n",
      "\u001b[34m[11]#011train-merror:0.03354#011validation-merror:0.20000\u001b[0m\n",
      "\u001b[34m[12]#011train-merror:0.02979#011validation-merror:0.19733\u001b[0m\n",
      "\u001b[34m[13]#011train-merror:0.02754#011validation-merror:0.19500\u001b[0m\n",
      "\u001b[34m[14]#011train-merror:0.02538#011validation-merror:0.19100\u001b[0m\n",
      "\u001b[34m[15]#011train-merror:0.02413#011validation-merror:0.19333\u001b[0m\n",
      "\u001b[34m[16]#011train-merror:0.02158#011validation-merror:0.19233\u001b[0m\n",
      "\u001b[34m[17]#011train-merror:0.01996#011validation-merror:0.19233\u001b[0m\n",
      "\u001b[34m[18]#011train-merror:0.01804#011validation-merror:0.19300\u001b[0m\n",
      "\u001b[34m[19]#011train-merror:0.01633#011validation-merror:0.19133\u001b[0m\n",
      "\u001b[34m[20]#011train-merror:0.01458#011validation-merror:0.19100\u001b[0m\n",
      "\u001b[34m[21]#011train-merror:0.01300#011validation-merror:0.19233\u001b[0m\n",
      "\u001b[34m[22]#011train-merror:0.01162#011validation-merror:0.19100\u001b[0m\n",
      "\u001b[34m[23]#011train-merror:0.01071#011validation-merror:0.19033\u001b[0m\n",
      "\u001b[34m[24]#011train-merror:0.01038#011validation-merror:0.19033\u001b[0m\n",
      "\u001b[34m[25]#011train-merror:0.00946#011validation-merror:0.19233\u001b[0m\n",
      "\u001b[34m[26]#011train-merror:0.00887#011validation-merror:0.19333\u001b[0m\n",
      "\u001b[34m[27]#011train-merror:0.00792#011validation-merror:0.19233\u001b[0m\n",
      "\u001b[34m[28]#011train-merror:0.00692#011validation-merror:0.19167\u001b[0m\n",
      "\u001b[34m[29]#011train-merror:0.00642#011validation-merror:0.19100\u001b[0m\n",
      "\u001b[34m[30]#011train-merror:0.00588#011validation-merror:0.19067\u001b[0m\n",
      "\u001b[34m[31]#011train-merror:0.00525#011validation-merror:0.18967\u001b[0m\n",
      "\u001b[34m[32]#011train-merror:0.00504#011validation-merror:0.18933\u001b[0m\n",
      "\u001b[34m[33]#011train-merror:0.00492#011validation-merror:0.18800\u001b[0m\n",
      "\u001b[34m[34]#011train-merror:0.00450#011validation-merror:0.18800\u001b[0m\n",
      "\u001b[34m[35]#011train-merror:0.00442#011validation-merror:0.18800\u001b[0m\n",
      "\u001b[34m[36]#011train-merror:0.00429#011validation-merror:0.18800\u001b[0m\n",
      "\u001b[34m[37]#011train-merror:0.00433#011validation-merror:0.18833\u001b[0m\n",
      "\u001b[34m[38]#011train-merror:0.00408#011validation-merror:0.18733\u001b[0m\n",
      "\u001b[34m[39]#011train-merror:0.00400#011validation-merror:0.18867\u001b[0m\n",
      "\u001b[34m[40]#011train-merror:0.00387#011validation-merror:0.18933\u001b[0m\n",
      "\u001b[34m[41]#011train-merror:0.00383#011validation-merror:0.18900\u001b[0m\n",
      "\u001b[34m[42]#011train-merror:0.00371#011validation-merror:0.18933\u001b[0m\n",
      "\u001b[34m[43]#011train-merror:0.00367#011validation-merror:0.18867\u001b[0m\n",
      "\u001b[34m[44]#011train-merror:0.00354#011validation-merror:0.18967\u001b[0m\n",
      "\u001b[34m[45]#011train-merror:0.00363#011validation-merror:0.19000\u001b[0m\n",
      "\u001b[34m[46]#011train-merror:0.00354#011validation-merror:0.19100\u001b[0m\n",
      "\u001b[34m[47]#011train-merror:0.00354#011validation-merror:0.19000\u001b[0m\n",
      "\u001b[34m[48]#011train-merror:0.00346#011validation-merror:0.19000\u001b[0m\n",
      "\u001b[34m[49]#011train-merror:0.00346#011validation-merror:0.19067\u001b[0m\n",
      "\u001b[34m[50]#011train-merror:0.00346#011validation-merror:0.19000\u001b[0m\n",
      "\u001b[34m[51]#011train-merror:0.00350#011validation-merror:0.18967\u001b[0m\n",
      "\u001b[34m[52]#011train-merror:0.00350#011validation-merror:0.18933\u001b[0m\n",
      "\u001b[34m[53]#011train-merror:0.00346#011validation-merror:0.19000\u001b[0m\n",
      "\u001b[34m[54]#011train-merror:0.00325#011validation-merror:0.19033\u001b[0m\n",
      "\u001b[34m[55]#011train-merror:0.00321#011validation-merror:0.18967\u001b[0m\n",
      "\u001b[34m[56]#011train-merror:0.00321#011validation-merror:0.18867\u001b[0m\n",
      "\u001b[34m[57]#011train-merror:0.00321#011validation-merror:0.18833\u001b[0m\n",
      "\u001b[34m[58]#011train-merror:0.00321#011validation-merror:0.18733\u001b[0m\n",
      "\u001b[34m[59]#011train-merror:0.00321#011validation-merror:0.18833\u001b[0m\n",
      "\u001b[34m[60]#011train-merror:0.00317#011validation-merror:0.18833\u001b[0m\n",
      "\u001b[34m[61]#011train-merror:0.00317#011validation-merror:0.18833\u001b[0m\n",
      "\u001b[34m[62]#011train-merror:0.00304#011validation-merror:0.18867\u001b[0m\n",
      "\u001b[34m[63]#011train-merror:0.00304#011validation-merror:0.18767\u001b[0m\n",
      "\u001b[34m[64]#011train-merror:0.00304#011validation-merror:0.18733\u001b[0m\n",
      "\u001b[34m[65]#011train-merror:0.00300#011validation-merror:0.18833\u001b[0m\n",
      "\u001b[34m[66]#011train-merror:0.00300#011validation-merror:0.18933\u001b[0m\n",
      "\u001b[34m[67]#011train-merror:0.00296#011validation-merror:0.18733\u001b[0m\n",
      "\u001b[34m[68]#011train-merror:0.00296#011validation-merror:0.18667\u001b[0m\n",
      "\u001b[34m[69]#011train-merror:0.00296#011validation-merror:0.18633\u001b[0m\n",
      "\u001b[34m[70]#011train-merror:0.00296#011validation-merror:0.18700\u001b[0m\n",
      "\u001b[34m[71]#011train-merror:0.00296#011validation-merror:0.18767\u001b[0m\n",
      "\u001b[34m[72]#011train-merror:0.00296#011validation-merror:0.18833\u001b[0m\n",
      "\u001b[34m[73]#011train-merror:0.00296#011validation-merror:0.18767\u001b[0m\n",
      "\u001b[34m[74]#011train-merror:0.00296#011validation-merror:0.18800\u001b[0m\n",
      "\u001b[34m[75]#011train-merror:0.00296#011validation-merror:0.18833\u001b[0m\n",
      "\u001b[34m[76]#011train-merror:0.00279#011validation-merror:0.18967\u001b[0m\n",
      "\u001b[34m[77]#011train-merror:0.00279#011validation-merror:0.18933\u001b[0m\n",
      "\u001b[34m[78]#011train-merror:0.00279#011validation-merror:0.19000\u001b[0m\n",
      "\u001b[34m[79]#011train-merror:0.00279#011validation-merror:0.18967\u001b[0m\n",
      "\u001b[34m[80]#011train-merror:0.00275#011validation-merror:0.19000\u001b[0m\n",
      "\u001b[34m[81]#011train-merror:0.00275#011validation-merror:0.19033\u001b[0m\n",
      "\u001b[34m[82]#011train-merror:0.00275#011validation-merror:0.19000\u001b[0m\n",
      "\u001b[34m[83]#011train-merror:0.00275#011validation-merror:0.18933\u001b[0m\n",
      "\u001b[34m[84]#011train-merror:0.00275#011validation-merror:0.18933\u001b[0m\n",
      "\u001b[34m[85]#011train-merror:0.00275#011validation-merror:0.18933\u001b[0m\n",
      "\u001b[34m[86]#011train-merror:0.00275#011validation-merror:0.19033\u001b[0m\n",
      "\u001b[34m[87]#011train-merror:0.00275#011validation-merror:0.18967\u001b[0m\n",
      "\u001b[34m[88]#011train-merror:0.00275#011validation-merror:0.19000\u001b[0m\n",
      "\u001b[34m[89]#011train-merror:0.00275#011validation-merror:0.19000\u001b[0m\n",
      "\u001b[34m[90]#011train-merror:0.00267#011validation-merror:0.19000\u001b[0m\n",
      "\u001b[34m[91]#011train-merror:0.00263#011validation-merror:0.19000\u001b[0m\n",
      "\u001b[34m[92]#011train-merror:0.00258#011validation-merror:0.18933\u001b[0m\n",
      "\u001b[34m[93]#011train-merror:0.00258#011validation-merror:0.18900\u001b[0m\n",
      "\u001b[34m[94]#011train-merror:0.00258#011validation-merror:0.18867\u001b[0m\n",
      "\u001b[34m[95]#011train-merror:0.00242#011validation-merror:0.18800\u001b[0m\n",
      "\u001b[34m[96]#011train-merror:0.00242#011validation-merror:0.18767\u001b[0m\n",
      "\u001b[34m[97]#011train-merror:0.00242#011validation-merror:0.18833\u001b[0m\n",
      "\u001b[34m[98]#011train-merror:0.00242#011validation-merror:0.18800\u001b[0m\n",
      "\u001b[34m[99]#011train-merror:0.00229#011validation-merror:0.18800\u001b[0m\n",
      "\u001b[34m[100]#011train-merror:0.00229#011validation-merror:0.18867\u001b[0m\n",
      "\u001b[34m[101]#011train-merror:0.00229#011validation-merror:0.18967\u001b[0m\n",
      "\u001b[34m[102]#011train-merror:0.00229#011validation-merror:0.18967\u001b[0m\n",
      "\u001b[34m[103]#011train-merror:0.00229#011validation-merror:0.18967\u001b[0m\n",
      "\u001b[34m[104]#011train-merror:0.00229#011validation-merror:0.18967\u001b[0m\n",
      "\u001b[34m[105]#011train-merror:0.00229#011validation-merror:0.18967\u001b[0m\n",
      "\u001b[34m[106]#011train-merror:0.00237#011validation-merror:0.18967\u001b[0m\n",
      "\u001b[34m[107]#011train-merror:0.00237#011validation-merror:0.18933\u001b[0m\n",
      "\u001b[34m[108]#011train-merror:0.00237#011validation-merror:0.18967\u001b[0m\n",
      "\u001b[34m[109]#011train-merror:0.00237#011validation-merror:0.18933\u001b[0m\n",
      "\u001b[34m[110]#011train-merror:0.00237#011validation-merror:0.18933\u001b[0m\n",
      "\u001b[34m[111]#011train-merror:0.00233#011validation-merror:0.18933\u001b[0m\n",
      "\u001b[34m[112]#011train-merror:0.00233#011validation-merror:0.18967\u001b[0m\n",
      "\u001b[34m[113]#011train-merror:0.00233#011validation-merror:0.18967\u001b[0m\n",
      "\u001b[34m[114]#011train-merror:0.00233#011validation-merror:0.18933\u001b[0m\n",
      "\u001b[34m[115]#011train-merror:0.00225#011validation-merror:0.18933\u001b[0m\n",
      "\u001b[34m[116]#011train-merror:0.00221#011validation-merror:0.18867\u001b[0m\n",
      "\u001b[34m[117]#011train-merror:0.00221#011validation-merror:0.18900\u001b[0m\n",
      "\u001b[34m[118]#011train-merror:0.00221#011validation-merror:0.18900\u001b[0m\n",
      "\u001b[34m[119]#011train-merror:0.00221#011validation-merror:0.18933\u001b[0m\n",
      "\u001b[34m[120]#011train-merror:0.00217#011validation-merror:0.18867\u001b[0m\n",
      "\u001b[34m[121]#011train-merror:0.00217#011validation-merror:0.18867\u001b[0m\n",
      "\u001b[34m[122]#011train-merror:0.00217#011validation-merror:0.18867\u001b[0m\n",
      "\u001b[34m[123]#011train-merror:0.00200#011validation-merror:0.18900\u001b[0m\n",
      "\u001b[34m[124]#011train-merror:0.00200#011validation-merror:0.18900\u001b[0m\n",
      "\u001b[34m[125]#011train-merror:0.00200#011validation-merror:0.18867\u001b[0m\n",
      "\u001b[34m[126]#011train-merror:0.00200#011validation-merror:0.18900\u001b[0m\n",
      "\u001b[34m[127]#011train-merror:0.00187#011validation-merror:0.18867\u001b[0m\n",
      "\u001b[34m[128]#011train-merror:0.00187#011validation-merror:0.18833\u001b[0m\n",
      "\u001b[34m[129]#011train-merror:0.00187#011validation-merror:0.18833\u001b[0m\n",
      "\u001b[34m[130]#011train-merror:0.00187#011validation-merror:0.18900\u001b[0m\n",
      "\u001b[34m[131]#011train-merror:0.00187#011validation-merror:0.18867\u001b[0m\n",
      "\u001b[34m[132]#011train-merror:0.00187#011validation-merror:0.18867\u001b[0m\n",
      "\u001b[34m[133]#011train-merror:0.00192#011validation-merror:0.18900\u001b[0m\n",
      "\u001b[34m[134]#011train-merror:0.00192#011validation-merror:0.18900\u001b[0m\n",
      "\u001b[34m[135]#011train-merror:0.00192#011validation-merror:0.18900\u001b[0m\n",
      "\u001b[34m[136]#011train-merror:0.00192#011validation-merror:0.18867\u001b[0m\n",
      "\u001b[34m[137]#011train-merror:0.00187#011validation-merror:0.18800\u001b[0m\n",
      "\u001b[34m[138]#011train-merror:0.00187#011validation-merror:0.18767\u001b[0m\n",
      "\u001b[34m[139]#011train-merror:0.00187#011validation-merror:0.18800\u001b[0m\n",
      "\u001b[34m[140]#011train-merror:0.00175#011validation-merror:0.18867\u001b[0m\n",
      "\u001b[34m[141]#011train-merror:0.00158#011validation-merror:0.18867\u001b[0m\n",
      "\u001b[34m[142]#011train-merror:0.00150#011validation-merror:0.18967\u001b[0m\n",
      "\u001b[34m[143]#011train-merror:0.00146#011validation-merror:0.18967\u001b[0m\n",
      "\n",
      "2024-09-03 22:38:49 Uploading - Uploading generated training model\u001b[34m[144]#011train-merror:0.00146#011validation-merror:0.18967\u001b[0m\n",
      "\u001b[34m[145]#011train-merror:0.00150#011validation-merror:0.19033\u001b[0m\n",
      "\u001b[34m[146]#011train-merror:0.00146#011validation-merror:0.19000\u001b[0m\n",
      "\u001b[34m[147]#011train-merror:0.00146#011validation-merror:0.19033\u001b[0m\n",
      "\u001b[34m[148]#011train-merror:0.00146#011validation-merror:0.19033\u001b[0m\n",
      "\u001b[34m[149]#011train-merror:0.00125#011validation-merror:0.19000\u001b[0m\n",
      "\n",
      "2024-09-03 22:39:02 Completed - Training job completed\n",
      "Training seconds: 139\n",
      "Billable seconds: 139\n"
     ]
    }
   ],
   "source": [
    "# Creating \"train\", \"validation\" channels to feed in the model\n",
    "train_input = sagemaker.session.TrainingInput(s3_data = s3_train_data, content_type='csv',s3_data_type = 'S3Prefix')\n",
    "valid_input = sagemaker.session.TrainingInput(s3_data = s3_validation_data, content_type='csv',s3_data_type = 'S3Prefix')\n",
    "\n",
    "data_channels = {'train': train_input,'validation': valid_input}\n",
    "Xgboost_classifier.fit(data_channels)"
   ]
  }
 ],
 "metadata": {
  "kernelspec": {
   "display_name": "conda_tensorflow2_p310",
   "language": "python",
   "name": "conda_tensorflow2_p310"
  },
  "language_info": {
   "codemirror_mode": {
    "name": "ipython",
    "version": 3
   },
   "file_extension": ".py",
   "mimetype": "text/x-python",
   "name": "python",
   "nbconvert_exporter": "python",
   "pygments_lexer": "ipython3",
   "version": "3.10.14"
  }
 },
 "nbformat": 4,
 "nbformat_minor": 5
}
